{
 "cells": [
  {
   "cell_type": "markdown",
   "metadata": {},
   "source": [
    "                            ASSIGNMENT ON DATA VISUAL ANALYTICS (MATPLOTLIB)"
   ]
  },
  {
   "cell_type": "markdown",
   "metadata": {},
   "source": [
    "                                                                                    SUBMITTED BY - BOTSON SHIBU (205214209)"
   ]
  },
  {
   "cell_type": "code",
   "execution_count": 1,
   "metadata": {},
   "outputs": [],
   "source": [
    "#Python script to read 10 students info and display is using bar graph\n",
    "\n",
    "\n",
    "import pandas as pd\n",
    "import random \n",
    "import numpy as np\n",
    "import matplotlib.pyplot as pt\n",
    "\n",
    "\n",
    "#empty lists for storing the values\n",
    "names = ['Jose','Shre','Raje','Shaw','Sam','Fino','Kiran','John','Evy','Hari']\n",
    "marks_1 = []\n",
    "marks_2 = []\n",
    "marks_3 = []\n",
    "\n",
    "#generating random values to store in marks_1_2_3....\n",
    "\n",
    "for i in range(len(names)):\n",
    "    \n",
    "    #using random library to create random integers..\n",
    "    marks_1.append(np.random.randint(23,33))\n",
    "    marks_2.append(np.random.randint(40,45))\n",
    "    marks_3.append(np.random.randint(10,20))"
   ]
  },
  {
   "cell_type": "code",
   "execution_count": 2,
   "metadata": {},
   "outputs": [],
   "source": [
    "values_for_index = [x for x in range(205214201,205214211)]\n",
    "\n",
    "#Creating new_dict for the dataframe\n",
    "\n",
    "my_val = {\"Name\":names,\"Marks_1\":marks_1,\"Marks_2\":marks_2,\"Marks_3\":marks_3}\n"
   ]
  },
  {
   "cell_type": "code",
   "execution_count": 3,
   "metadata": {},
   "outputs": [
    {
     "data": {
      "text/html": [
       "<div>\n",
       "<style scoped>\n",
       "    .dataframe tbody tr th:only-of-type {\n",
       "        vertical-align: middle;\n",
       "    }\n",
       "\n",
       "    .dataframe tbody tr th {\n",
       "        vertical-align: top;\n",
       "    }\n",
       "\n",
       "    .dataframe thead th {\n",
       "        text-align: right;\n",
       "    }\n",
       "</style>\n",
       "<table border=\"1\" class=\"dataframe\">\n",
       "  <thead>\n",
       "    <tr style=\"text-align: right;\">\n",
       "      <th></th>\n",
       "      <th>Name</th>\n",
       "      <th>Marks_1</th>\n",
       "      <th>Marks_2</th>\n",
       "      <th>Marks_3</th>\n",
       "    </tr>\n",
       "  </thead>\n",
       "  <tbody>\n",
       "    <tr>\n",
       "      <th>205214201</th>\n",
       "      <td>Jose</td>\n",
       "      <td>32</td>\n",
       "      <td>44</td>\n",
       "      <td>19</td>\n",
       "    </tr>\n",
       "    <tr>\n",
       "      <th>205214202</th>\n",
       "      <td>Shre</td>\n",
       "      <td>26</td>\n",
       "      <td>41</td>\n",
       "      <td>11</td>\n",
       "    </tr>\n",
       "    <tr>\n",
       "      <th>205214203</th>\n",
       "      <td>Raje</td>\n",
       "      <td>26</td>\n",
       "      <td>40</td>\n",
       "      <td>10</td>\n",
       "    </tr>\n",
       "    <tr>\n",
       "      <th>205214204</th>\n",
       "      <td>Shaw</td>\n",
       "      <td>30</td>\n",
       "      <td>40</td>\n",
       "      <td>11</td>\n",
       "    </tr>\n",
       "    <tr>\n",
       "      <th>205214205</th>\n",
       "      <td>Sam</td>\n",
       "      <td>29</td>\n",
       "      <td>43</td>\n",
       "      <td>10</td>\n",
       "    </tr>\n",
       "    <tr>\n",
       "      <th>205214206</th>\n",
       "      <td>Fino</td>\n",
       "      <td>32</td>\n",
       "      <td>43</td>\n",
       "      <td>11</td>\n",
       "    </tr>\n",
       "    <tr>\n",
       "      <th>205214207</th>\n",
       "      <td>Kiran</td>\n",
       "      <td>24</td>\n",
       "      <td>40</td>\n",
       "      <td>13</td>\n",
       "    </tr>\n",
       "    <tr>\n",
       "      <th>205214208</th>\n",
       "      <td>John</td>\n",
       "      <td>23</td>\n",
       "      <td>40</td>\n",
       "      <td>14</td>\n",
       "    </tr>\n",
       "    <tr>\n",
       "      <th>205214209</th>\n",
       "      <td>Evy</td>\n",
       "      <td>29</td>\n",
       "      <td>41</td>\n",
       "      <td>11</td>\n",
       "    </tr>\n",
       "    <tr>\n",
       "      <th>205214210</th>\n",
       "      <td>Hari</td>\n",
       "      <td>25</td>\n",
       "      <td>44</td>\n",
       "      <td>12</td>\n",
       "    </tr>\n",
       "  </tbody>\n",
       "</table>\n",
       "</div>"
      ],
      "text/plain": [
       "            Name  Marks_1  Marks_2  Marks_3\n",
       "205214201   Jose       32       44       19\n",
       "205214202   Shre       26       41       11\n",
       "205214203   Raje       26       40       10\n",
       "205214204   Shaw       30       40       11\n",
       "205214205    Sam       29       43       10\n",
       "205214206   Fino       32       43       11\n",
       "205214207  Kiran       24       40       13\n",
       "205214208   John       23       40       14\n",
       "205214209    Evy       29       41       11\n",
       "205214210   Hari       25       44       12"
      ]
     },
     "execution_count": 3,
     "metadata": {},
     "output_type": "execute_result"
    }
   ],
   "source": [
    "#creating Dataframe to view the contents in it\n",
    "\n",
    "data_frame = pd.DataFrame(my_val,index=values_for_index)\n",
    "data_frame"
   ]
  },
  {
   "cell_type": "code",
   "execution_count": 4,
   "metadata": {},
   "outputs": [],
   "source": [
    "#inplace set the name value to stay in that place \n",
    "\n",
    "data_frame.set_index(\"Name\",inplace=True)"
   ]
  },
  {
   "cell_type": "code",
   "execution_count": 5,
   "metadata": {},
   "outputs": [
    {
     "name": "stdout",
     "output_type": "stream",
     "text": [
      "The Total is : \n",
      " Name\n",
      "Jose     95\n",
      "Shre     78\n",
      "Raje     76\n",
      "Shaw     81\n",
      "Sam      82\n",
      "Fino     86\n",
      "Kiran    77\n",
      "John     77\n",
      "Evy      81\n",
      "Hari     81\n",
      "dtype: int64\n"
     ]
    }
   ],
   "source": [
    "#calculating total for the students\n",
    "\n",
    "new_2 = data_frame.sum(axis=1)\n",
    "print(\"The Total is : \\n\",new_2)"
   ]
  },
  {
   "cell_type": "code",
   "execution_count": 6,
   "metadata": {},
   "outputs": [
    {
     "name": "stdout",
     "output_type": "stream",
     "text": [
      "The average is : \n",
      " Name\n",
      "Jose     31.666667\n",
      "Shre     26.000000\n",
      "Raje     25.333333\n",
      "Shaw     27.000000\n",
      "Sam      27.333333\n",
      "Fino     28.666667\n",
      "Kiran    25.666667\n",
      "John     25.666667\n",
      "Evy      27.000000\n",
      "Hari     27.000000\n",
      "dtype: float64\n"
     ]
    }
   ],
   "source": [
    "#calculating mean(average) students\n",
    "\n",
    "new_3 = data_frame.mean(axis=1)\n",
    "print(\"The average is : \\n\",new_3)"
   ]
  },
  {
   "cell_type": "code",
   "execution_count": 7,
   "metadata": {},
   "outputs": [],
   "source": [
    "values_plt = [h for h in new_2]"
   ]
  },
  {
   "cell_type": "code",
   "execution_count": 8,
   "metadata": {},
   "outputs": [
    {
     "data": {
      "image/png": "[encoded data removed]",
      "text/plain": [
       "<Figure size 648x288 with 1 Axes>"
      ]
     },
     "metadata": {
      "needs_background": "light"
     },
     "output_type": "display_data"
    }
   ],
   "source": [
    "#customizing the bars and its contents.....\n",
    "pt.figure(figsize=(9,4))\n",
    "pt.xlabel(\"Students\")\n",
    "pt.ylabel(\"Marks\")\n",
    "pt.bar(names,values_plt,color='purple',width=0.5)\n",
    "pt.show()"
   ]
  },
  {
   "cell_type": "code",
   "execution_count": 9,
   "metadata": {},
   "outputs": [],
   "source": [
    "import matplotlib.pyplot as pt\n",
    "import pandas as pd\n",
    "import random\n",
    "import numpy as np"
   ]
  },
  {
   "cell_type": "code",
   "execution_count": 10,
   "metadata": {},
   "outputs": [],
   "source": [
    "#creating a random salary for the employees...!!!\n",
    "\n",
    "emp_salary = np.random.randint(30001,50003,5)"
   ]
  },
  {
   "cell_type": "code",
   "execution_count": 13,
   "metadata": {},
   "outputs": [
    {
     "data": {
      "text/html": [
       "<div>\n",
       "<style scoped>\n",
       "    .dataframe tbody tr th:only-of-type {\n",
       "        vertical-align: middle;\n",
       "    }\n",
       "\n",
       "    .dataframe tbody tr th {\n",
       "        vertical-align: top;\n",
       "    }\n",
       "\n",
       "    .dataframe thead th {\n",
       "        text-align: right;\n",
       "    }\n",
       "</style>\n",
       "<table border=\"1\" class=\"dataframe\">\n",
       "  <thead>\n",
       "    <tr style=\"text-align: right;\">\n",
       "      <th></th>\n",
       "      <th>Name</th>\n",
       "      <th>Salary</th>\n",
       "    </tr>\n",
       "  </thead>\n",
       "  <tbody>\n",
       "    <tr>\n",
       "      <th>1</th>\n",
       "      <td>Faize</td>\n",
       "      <td>31943</td>\n",
       "    </tr>\n",
       "    <tr>\n",
       "      <th>2</th>\n",
       "      <td>Ashwin</td>\n",
       "      <td>47652</td>\n",
       "    </tr>\n",
       "    <tr>\n",
       "      <th>3</th>\n",
       "      <td>Sara</td>\n",
       "      <td>32201</td>\n",
       "    </tr>\n",
       "    <tr>\n",
       "      <th>4</th>\n",
       "      <td>Heldon</td>\n",
       "      <td>33060</td>\n",
       "    </tr>\n",
       "    <tr>\n",
       "      <th>5</th>\n",
       "      <td>Beni</td>\n",
       "      <td>40736</td>\n",
       "    </tr>\n",
       "  </tbody>\n",
       "</table>\n",
       "</div>"
      ],
      "text/plain": [
       "     Name  Salary\n",
       "1   Faize   31943\n",
       "2  Ashwin   47652\n",
       "3    Sara   32201\n",
       "4  Heldon   33060\n",
       "5    Beni   40736"
      ]
     },
     "execution_count": 13,
     "metadata": {},
     "output_type": "execute_result"
    }
   ],
   "source": [
    "#python program to read employee details\n",
    "emp_name = ['Faize','Ashwin','Sara','Heldon','Beni']\n",
    "\n",
    "emp_details = {\"Name\":emp_name,\"Salary\":emp_salary}\n",
    "data_frame = pd.DataFrame(emp_details,index=[1,2,3,4,5])\n",
    "data_frame"
   ]
  },
  {
   "cell_type": "code",
   "execution_count": 14,
   "metadata": {},
   "outputs": [
    {
     "data": {
      "image/png": "[encoded data removed]",
      "text/plain": [
       "<Figure size 648x288 with 1 Axes>"
      ]
     },
     "metadata": {
      "needs_background": "light"
     },
     "output_type": "display_data"
    }
   ],
   "source": [
    "pt.figure(figsize=(9,4))\n",
    "pt.xlabel(\"Name\")\n",
    "pt.ylabel(\"Salary\")\n",
    "pt.scatter(emp_name,emp_salary ,color='green')\n",
    "\n",
    "#To view the plotted values\n",
    "pt.show()"
   ]
  },
  {
   "cell_type": "code",
   "execution_count": null,
   "metadata": {},
   "outputs": [],
   "source": []
  },
  {
   "cell_type": "code",
   "execution_count": null,
   "metadata": {},
   "outputs": [],
   "source": []
  }
 ],
 "metadata": {
  "kernelspec": {
   "display_name": "Python 3",
   "language": "python",
   "name": "python3"
  },
  "language_info": {
   "codemirror_mode": {
    "name": "ipython",
    "version": 3
   },
   "file_extension": ".py",
   "mimetype": "text/x-python",
   "name": "python",
   "nbconvert_exporter": "python",
   "pygments_lexer": "ipython3",
   "version": "3.8.2"
  }
 },
 "nbformat": 4,
 "nbformat_minor": 4
}
