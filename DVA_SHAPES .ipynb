{
 "cells": [
  {
   "cell_type": "markdown",
   "metadata": {},
   "source": [
    "                                      DVA-SHAPES (UNIT-4) "
   ]
  },
  {
   "cell_type": "markdown",
   "metadata": {},
   "source": [
    "SUBMITTED BY - BOTSON SHIBU (205214209)"
   ]
  },
  {
   "cell_type": "code",
   "execution_count": null,
   "metadata": {},
   "outputs": [],
   "source": [
    "#ploygonal shapes using matplotlib in python "
   ]
  },
  {
   "cell_type": "code",
   "execution_count": 277,
   "metadata": {},
   "outputs": [
    {
     "data": {
      "text/plain": [
       "<matplotlib.patches.Polygon at 0x1648dd30>"
      ]
     },
     "execution_count": 277,
     "metadata": {},
     "output_type": "execute_result"
    },
    {
     "data": {
      "image/png": "[encoded data removed]",
      "text/plain": [
       "<Figure size 648x360 with 1 Axes>"
      ]
     },
     "metadata": {
      "needs_background": "light"
     },
     "output_type": "display_data"
    }
   ],
   "source": [
    "import matplotlib.pyplot as plt\n",
    "\n",
    "fig = plt.figure(figsize=(9,5))\n",
    "\n",
    "plo = plt.Polygon([[0.7,0.9],[0.9,0.9],[0.9,0.3],[0.8,0.1],[0.7,0.3]],color='blue',alpha=0.5)\n",
    "\n",
    "plo_2 = pt.Polygon([[0.15,0.6],[0.15,0.4],[0.32,0.4],[0.32,0.16],[0.52,0.16],[0.52,0.4],\n",
    "                    [0.68,0.4],[0.68,0.6],[0.52,0.6],[0.52,0.8],[0.32,0.8],[0.32,0.6]],color='purple',alpha=0.5)\n",
    "ax = fig.add_subplot(1,1,1)\n",
    "\n",
    "ax.add_patch(plo)\n",
    "\n",
    "ax.add_patch(plo_2)"
   ]
  }
 ],
 "metadata": {
  "kernelspec": {
   "display_name": "Python 3",
   "language": "python",
   "name": "python3"
  },
  "language_info": {
   "codemirror_mode": {
    "name": "ipython",
    "version": 3
   },
   "file_extension": ".py",
   "mimetype": "text/x-python",
   "name": "python",
   "nbconvert_exporter": "python",
   "pygments_lexer": "ipython3",
   "version": "3.8.2"
  }
 },
 "nbformat": 4,
 "nbformat_minor": 4
}
